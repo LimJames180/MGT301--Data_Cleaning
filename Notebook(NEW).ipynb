{
 "cells": [
  {
   "cell_type": "code",
   "execution_count": 1,
   "metadata": {
    "ExecuteTime": {
     "end_time": "2024-10-10T21:39:01.448610Z",
     "start_time": "2024-10-10T21:38:58.709579Z"
    }
   },
   "outputs": [],
   "source": [
    "import pandas as pd\n",
    "\n",
    "from datetime import datetime,timedelta"
   ]
  },
  {
   "cell_type": "code",
   "execution_count": 2,
   "metadata": {
    "ExecuteTime": {
     "end_time": "2024-10-10T21:39:01.540061Z",
     "start_time": "2024-10-10T21:39:01.452032Z"
    }
   },
   "outputs": [],
   "source": [
    "df = pd.read_csv('big mac.csv')"
   ]
  },
  {
   "cell_type": "code",
   "execution_count": 3,
   "metadata": {
    "ExecuteTime": {
     "end_time": "2024-10-10T21:39:01.750964Z",
     "start_time": "2024-10-10T21:39:01.543799Z"
    }
   },
   "outputs": [
    {
     "data": {
      "text/html": [
       "<div>\n",
       "<style scoped>\n",
       "    .dataframe tbody tr th:only-of-type {\n",
       "        vertical-align: middle;\n",
       "    }\n",
       "\n",
       "    .dataframe tbody tr th {\n",
       "        vertical-align: top;\n",
       "    }\n",
       "\n",
       "    .dataframe thead th {\n",
       "        text-align: right;\n",
       "    }\n",
       "</style>\n",
       "<table border=\"1\" class=\"dataframe\">\n",
       "  <thead>\n",
       "    <tr style=\"text-align: right;\">\n",
       "      <th></th>\n",
       "      <th>date</th>\n",
       "      <th>iso_a3</th>\n",
       "      <th>currency_code</th>\n",
       "      <th>name</th>\n",
       "      <th>local_price</th>\n",
       "      <th>dollar_ex</th>\n",
       "      <th>dollar_price</th>\n",
       "      <th>USD_raw</th>\n",
       "      <th>EUR_raw</th>\n",
       "      <th>GBP_raw</th>\n",
       "      <th>JPY_raw</th>\n",
       "      <th>CNY_raw</th>\n",
       "      <th>GDP_dollar</th>\n",
       "      <th>adj_price</th>\n",
       "      <th>USD_adjusted</th>\n",
       "      <th>EUR_adjusted</th>\n",
       "      <th>GBP_adjusted</th>\n",
       "      <th>JPY_adjusted</th>\n",
       "      <th>CNY_adjusted</th>\n",
       "    </tr>\n",
       "  </thead>\n",
       "  <tbody>\n",
       "    <tr>\n",
       "      <th>0</th>\n",
       "      <td>2000-04-01</td>\n",
       "      <td>ARG</td>\n",
       "      <td>ARS</td>\n",
       "      <td>Argentina</td>\n",
       "      <td>2.50</td>\n",
       "      <td>1.0000</td>\n",
       "      <td>2.500000</td>\n",
       "      <td>-0.00398</td>\n",
       "      <td>0.05007</td>\n",
       "      <td>-0.16722</td>\n",
       "      <td>-0.09864</td>\n",
       "      <td>1.09091</td>\n",
       "      <td>NaN</td>\n",
       "      <td>NaN</td>\n",
       "      <td>NaN</td>\n",
       "      <td>NaN</td>\n",
       "      <td>NaN</td>\n",
       "      <td>NaN</td>\n",
       "      <td>NaN</td>\n",
       "    </tr>\n",
       "    <tr>\n",
       "      <th>1</th>\n",
       "      <td>2000-04-01</td>\n",
       "      <td>AUS</td>\n",
       "      <td>AUD</td>\n",
       "      <td>Australia</td>\n",
       "      <td>2.59</td>\n",
       "      <td>1.6800</td>\n",
       "      <td>1.541667</td>\n",
       "      <td>-0.38579</td>\n",
       "      <td>-0.35246</td>\n",
       "      <td>-0.48645</td>\n",
       "      <td>-0.44416</td>\n",
       "      <td>0.28939</td>\n",
       "      <td>NaN</td>\n",
       "      <td>NaN</td>\n",
       "      <td>NaN</td>\n",
       "      <td>NaN</td>\n",
       "      <td>NaN</td>\n",
       "      <td>NaN</td>\n",
       "      <td>NaN</td>\n",
       "    </tr>\n",
       "    <tr>\n",
       "      <th>2</th>\n",
       "      <td>2000-04-01</td>\n",
       "      <td>BRA</td>\n",
       "      <td>BRL</td>\n",
       "      <td>Brazil</td>\n",
       "      <td>2.95</td>\n",
       "      <td>1.7900</td>\n",
       "      <td>1.648045</td>\n",
       "      <td>-0.34341</td>\n",
       "      <td>-0.30778</td>\n",
       "      <td>-0.45102</td>\n",
       "      <td>-0.40581</td>\n",
       "      <td>0.37836</td>\n",
       "      <td>NaN</td>\n",
       "      <td>NaN</td>\n",
       "      <td>NaN</td>\n",
       "      <td>NaN</td>\n",
       "      <td>NaN</td>\n",
       "      <td>NaN</td>\n",
       "      <td>NaN</td>\n",
       "    </tr>\n",
       "    <tr>\n",
       "      <th>3</th>\n",
       "      <td>2000-04-01</td>\n",
       "      <td>CAN</td>\n",
       "      <td>CAD</td>\n",
       "      <td>Canada</td>\n",
       "      <td>2.85</td>\n",
       "      <td>1.4700</td>\n",
       "      <td>1.938776</td>\n",
       "      <td>-0.22758</td>\n",
       "      <td>-0.18566</td>\n",
       "      <td>-0.35417</td>\n",
       "      <td>-0.30099</td>\n",
       "      <td>0.62152</td>\n",
       "      <td>NaN</td>\n",
       "      <td>NaN</td>\n",
       "      <td>NaN</td>\n",
       "      <td>NaN</td>\n",
       "      <td>NaN</td>\n",
       "      <td>NaN</td>\n",
       "      <td>NaN</td>\n",
       "    </tr>\n",
       "    <tr>\n",
       "      <th>4</th>\n",
       "      <td>2000-04-01</td>\n",
       "      <td>CHE</td>\n",
       "      <td>CHF</td>\n",
       "      <td>Switzerland</td>\n",
       "      <td>5.90</td>\n",
       "      <td>1.7000</td>\n",
       "      <td>3.470588</td>\n",
       "      <td>0.38270</td>\n",
       "      <td>0.45774</td>\n",
       "      <td>0.15609</td>\n",
       "      <td>0.25130</td>\n",
       "      <td>1.90267</td>\n",
       "      <td>NaN</td>\n",
       "      <td>NaN</td>\n",
       "      <td>NaN</td>\n",
       "      <td>NaN</td>\n",
       "      <td>NaN</td>\n",
       "      <td>NaN</td>\n",
       "      <td>NaN</td>\n",
       "    </tr>\n",
       "    <tr>\n",
       "      <th>...</th>\n",
       "      <td>...</td>\n",
       "      <td>...</td>\n",
       "      <td>...</td>\n",
       "      <td>...</td>\n",
       "      <td>...</td>\n",
       "      <td>...</td>\n",
       "      <td>...</td>\n",
       "      <td>...</td>\n",
       "      <td>...</td>\n",
       "      <td>...</td>\n",
       "      <td>...</td>\n",
       "      <td>...</td>\n",
       "      <td>...</td>\n",
       "      <td>...</td>\n",
       "      <td>...</td>\n",
       "      <td>...</td>\n",
       "      <td>...</td>\n",
       "      <td>...</td>\n",
       "      <td>...</td>\n",
       "    </tr>\n",
       "    <tr>\n",
       "      <th>1381</th>\n",
       "      <td>2020-07-01</td>\n",
       "      <td>UKR</td>\n",
       "      <td>UAH</td>\n",
       "      <td>Ukraine</td>\n",
       "      <td>59.00</td>\n",
       "      <td>27.1300</td>\n",
       "      <td>2.174714</td>\n",
       "      <td>-0.61914</td>\n",
       "      <td>-0.54562</td>\n",
       "      <td>-0.49157</td>\n",
       "      <td>-0.40181</td>\n",
       "      <td>-0.29813</td>\n",
       "      <td>NaN</td>\n",
       "      <td>NaN</td>\n",
       "      <td>NaN</td>\n",
       "      <td>NaN</td>\n",
       "      <td>NaN</td>\n",
       "      <td>NaN</td>\n",
       "      <td>NaN</td>\n",
       "    </tr>\n",
       "    <tr>\n",
       "      <th>1382</th>\n",
       "      <td>2020-07-01</td>\n",
       "      <td>URY</td>\n",
       "      <td>UYU</td>\n",
       "      <td>Uruguay</td>\n",
       "      <td>189.00</td>\n",
       "      <td>43.6750</td>\n",
       "      <td>4.327418</td>\n",
       "      <td>-0.24213</td>\n",
       "      <td>-0.09584</td>\n",
       "      <td>0.01171</td>\n",
       "      <td>0.19032</td>\n",
       "      <td>0.39664</td>\n",
       "      <td>NaN</td>\n",
       "      <td>NaN</td>\n",
       "      <td>NaN</td>\n",
       "      <td>NaN</td>\n",
       "      <td>NaN</td>\n",
       "      <td>NaN</td>\n",
       "      <td>NaN</td>\n",
       "    </tr>\n",
       "    <tr>\n",
       "      <th>1383</th>\n",
       "      <td>2020-07-01</td>\n",
       "      <td>USA</td>\n",
       "      <td>USD</td>\n",
       "      <td>United States</td>\n",
       "      <td>5.71</td>\n",
       "      <td>1.0000</td>\n",
       "      <td>5.710000</td>\n",
       "      <td>0.00000</td>\n",
       "      <td>0.19303</td>\n",
       "      <td>0.33494</td>\n",
       "      <td>0.57062</td>\n",
       "      <td>0.84286</td>\n",
       "      <td>62868.917</td>\n",
       "      <td>5.174502</td>\n",
       "      <td>0.000</td>\n",
       "      <td>-0.019</td>\n",
       "      <td>0.122</td>\n",
       "      <td>0.279</td>\n",
       "      <td>0.070</td>\n",
       "    </tr>\n",
       "    <tr>\n",
       "      <th>1384</th>\n",
       "      <td>2020-07-01</td>\n",
       "      <td>VNM</td>\n",
       "      <td>VND</td>\n",
       "      <td>Vietnam</td>\n",
       "      <td>66000.00</td>\n",
       "      <td>23180.0000</td>\n",
       "      <td>2.847282</td>\n",
       "      <td>-0.50135</td>\n",
       "      <td>-0.40510</td>\n",
       "      <td>-0.33433</td>\n",
       "      <td>-0.21681</td>\n",
       "      <td>-0.08106</td>\n",
       "      <td>NaN</td>\n",
       "      <td>NaN</td>\n",
       "      <td>NaN</td>\n",
       "      <td>NaN</td>\n",
       "      <td>NaN</td>\n",
       "      <td>NaN</td>\n",
       "      <td>NaN</td>\n",
       "    </tr>\n",
       "    <tr>\n",
       "      <th>1385</th>\n",
       "      <td>2020-07-01</td>\n",
       "      <td>ZAF</td>\n",
       "      <td>ZAR</td>\n",
       "      <td>South Africa</td>\n",
       "      <td>31.00</td>\n",
       "      <td>16.6725</td>\n",
       "      <td>1.859349</td>\n",
       "      <td>-0.67437</td>\n",
       "      <td>-0.61151</td>\n",
       "      <td>-0.56530</td>\n",
       "      <td>-0.48856</td>\n",
       "      <td>-0.39991</td>\n",
       "      <td>6353.846</td>\n",
       "      <td>2.871878</td>\n",
       "      <td>-0.413</td>\n",
       "      <td>-0.425</td>\n",
       "      <td>-0.342</td>\n",
       "      <td>-0.249</td>\n",
       "      <td>-0.372</td>\n",
       "    </tr>\n",
       "  </tbody>\n",
       "</table>\n",
       "<p>1386 rows × 19 columns</p>\n",
       "</div>"
      ],
      "text/plain": [
       "            date iso_a3 currency_code           name  local_price   dollar_ex  \\\n",
       "0     2000-04-01    ARG           ARS      Argentina         2.50      1.0000   \n",
       "1     2000-04-01    AUS           AUD      Australia         2.59      1.6800   \n",
       "2     2000-04-01    BRA           BRL         Brazil         2.95      1.7900   \n",
       "3     2000-04-01    CAN           CAD         Canada         2.85      1.4700   \n",
       "4     2000-04-01    CHE           CHF    Switzerland         5.90      1.7000   \n",
       "...          ...    ...           ...            ...          ...         ...   \n",
       "1381  2020-07-01    UKR           UAH        Ukraine        59.00     27.1300   \n",
       "1382  2020-07-01    URY           UYU        Uruguay       189.00     43.6750   \n",
       "1383  2020-07-01    USA           USD  United States         5.71      1.0000   \n",
       "1384  2020-07-01    VNM           VND        Vietnam     66000.00  23180.0000   \n",
       "1385  2020-07-01    ZAF           ZAR   South Africa        31.00     16.6725   \n",
       "\n",
       "      dollar_price  USD_raw  EUR_raw  GBP_raw  JPY_raw  CNY_raw  GDP_dollar  \\\n",
       "0         2.500000 -0.00398  0.05007 -0.16722 -0.09864  1.09091         NaN   \n",
       "1         1.541667 -0.38579 -0.35246 -0.48645 -0.44416  0.28939         NaN   \n",
       "2         1.648045 -0.34341 -0.30778 -0.45102 -0.40581  0.37836         NaN   \n",
       "3         1.938776 -0.22758 -0.18566 -0.35417 -0.30099  0.62152         NaN   \n",
       "4         3.470588  0.38270  0.45774  0.15609  0.25130  1.90267         NaN   \n",
       "...            ...      ...      ...      ...      ...      ...         ...   \n",
       "1381      2.174714 -0.61914 -0.54562 -0.49157 -0.40181 -0.29813         NaN   \n",
       "1382      4.327418 -0.24213 -0.09584  0.01171  0.19032  0.39664         NaN   \n",
       "1383      5.710000  0.00000  0.19303  0.33494  0.57062  0.84286   62868.917   \n",
       "1384      2.847282 -0.50135 -0.40510 -0.33433 -0.21681 -0.08106         NaN   \n",
       "1385      1.859349 -0.67437 -0.61151 -0.56530 -0.48856 -0.39991    6353.846   \n",
       "\n",
       "      adj_price  USD_adjusted  EUR_adjusted  GBP_adjusted  JPY_adjusted  \\\n",
       "0           NaN           NaN           NaN           NaN           NaN   \n",
       "1           NaN           NaN           NaN           NaN           NaN   \n",
       "2           NaN           NaN           NaN           NaN           NaN   \n",
       "3           NaN           NaN           NaN           NaN           NaN   \n",
       "4           NaN           NaN           NaN           NaN           NaN   \n",
       "...         ...           ...           ...           ...           ...   \n",
       "1381        NaN           NaN           NaN           NaN           NaN   \n",
       "1382        NaN           NaN           NaN           NaN           NaN   \n",
       "1383   5.174502         0.000        -0.019         0.122         0.279   \n",
       "1384        NaN           NaN           NaN           NaN           NaN   \n",
       "1385   2.871878        -0.413        -0.425        -0.342        -0.249   \n",
       "\n",
       "      CNY_adjusted  \n",
       "0              NaN  \n",
       "1              NaN  \n",
       "2              NaN  \n",
       "3              NaN  \n",
       "4              NaN  \n",
       "...            ...  \n",
       "1381           NaN  \n",
       "1382           NaN  \n",
       "1383         0.070  \n",
       "1384           NaN  \n",
       "1385        -0.372  \n",
       "\n",
       "[1386 rows x 19 columns]"
      ]
     },
     "execution_count": 3,
     "metadata": {},
     "output_type": "execute_result"
    }
   ],
   "source": [
    "df"
   ]
  },
  {
   "cell_type": "code",
   "execution_count": 4,
   "metadata": {
    "ExecuteTime": {
     "end_time": "2024-10-10T21:39:01.763013Z",
     "start_time": "2024-10-10T21:39:01.754357Z"
    }
   },
   "outputs": [
    {
     "name": "stdout",
     "output_type": "stream",
     "text": [
      "57\n"
     ]
    }
   ],
   "source": [
    "data_frames = {}\n",
    "countries = set(df[\"name\"].tolist())\n",
    "print(len(countries))\n",
    "to_drop = [\"USD_raw\", \"EUR_raw\", \"GBP_raw\", \"JPY_raw\", \"CNY_raw\", \"GDP_dollar\", \"adj_price\", \"USD_adjusted\", \"EUR_adjusted\", \"GBP_adjusted\", \"JPY_adjusted\", \"CNY_adjusted\", ]"
   ]
  },
  {
   "cell_type": "code",
   "execution_count": 5,
   "metadata": {
    "ExecuteTime": {
     "end_time": "2024-10-10T21:39:01.829066Z",
     "start_time": "2024-10-10T21:39:01.823010Z"
    }
   },
   "outputs": [],
   "source": [
    "def change_date_to_datetime(str):\n",
    "    datetime_object = datetime.strptime(str, '%Y-%m-%d').date()\n",
    "    return datetime_object\n"
   ]
  },
  {
   "cell_type": "code",
   "execution_count": 6,
   "metadata": {
    "ExecuteTime": {
     "end_time": "2024-10-10T21:39:02.033511Z",
     "start_time": "2024-10-10T21:39:01.832150Z"
    }
   },
   "outputs": [],
   "source": [
    "#change str to datetime object\n",
    "\n",
    "df[\"date\"] = df[\"date\"].apply(change_date_to_datetime)\n",
    "columns_tochange = [\"local_price\", \"dollar_ex\", \"dollar_price\"]"
   ]
  },
  {
   "cell_type": "code",
   "execution_count": 7,
   "metadata": {},
   "outputs": [],
   "source": [
    "df = df.drop(to_drop, axis=1)"
   ]
  },
  {
   "cell_type": "code",
   "execution_count": 8,
   "metadata": {
    "ExecuteTime": {
     "end_time": "2024-10-10T21:39:02.433926Z",
     "start_time": "2024-10-10T21:39:02.124835Z"
    }
   },
   "outputs": [],
   "source": [
    "for country in countries:\n",
    "    data_frames[country] = df[df[\"name\"] == country]"
   ]
  },
  {
   "cell_type": "markdown",
   "metadata": {},
   "source": [
    "Seperating Data frames by Country"
   ]
  },
  {
   "cell_type": "code",
   "execution_count": 9,
   "metadata": {
    "ExecuteTime": {
     "end_time": "2024-10-10T21:39:02.444195Z",
     "start_time": "2024-10-10T21:39:02.437250Z"
    }
   },
   "outputs": [],
   "source": [
    "year1999 = datetime(1999, 12, 31).date()\n",
    "year2021 = datetime(2021, 1, 1).date()\n",
    "x = data_frames[\"Canada\"][\"date\"].iloc[0]"
   ]
  },
  {
   "cell_type": "code",
   "execution_count": 10,
   "metadata": {
    "ExecuteTime": {
     "end_time": "2024-10-10T21:39:02.452892Z",
     "start_time": "2024-10-10T21:39:02.447187Z"
    }
   },
   "outputs": [],
   "source": [
    "def nearest(items, pivot):\n",
    "    return min(items, key=lambda z: abs(z - pivot))"
   ]
  },
  {
   "cell_type": "code",
   "execution_count": 11,
   "metadata": {
    "ExecuteTime": {
     "end_time": "2024-10-10T21:39:14.429870Z",
     "start_time": "2024-10-10T21:39:02.522398Z"
    }
   },
   "outputs": [],
   "source": [
    "years = []\n",
    "for i in range(2000, 2021):\n",
    "    years.append(datetime(i, 1, 1).date())\n",
    "for country in countries:\n",
    "    # Enure all data is is in range 2000 - 2020\n",
    "    frame = data_frames[country]\n",
    "    data_frames[country] = frame[((frame[\"date\"] > year1999) &  (year2021 > frame[\"date\"]))]\n",
    "    for year in years:\n",
    "        x = frame[((frame[\"date\"] >= year) &  ((year+pd.DateOffset(years=1)) > frame[\"date\"]))]\n",
    "        if len(x) > 1:\n",
    "            y = x[\"date\"].tolist()\n",
    "            midlest = nearest(y, (year+timedelta(days=150)))\n",
    "            to_delete = x[((x[\"date\"] > midlest) |  (midlest > x[\"date\"]))]\n",
    "            data_frames[country] = pd.concat([data_frames[country], to_delete])\n",
    "    data_frames[country] = data_frames[country].drop_duplicates(keep=False)\n",
    "        "
   ]
  },
  {
   "cell_type": "code",
   "execution_count": 12,
   "metadata": {
    "ExecuteTime": {
     "end_time": "2024-10-10T21:39:14.524161Z",
     "start_time": "2024-10-10T21:39:14.434996Z"
    }
   },
   "outputs": [],
   "source": [
    "final_list = []\n",
    "for country in countries.copy():\n",
    "    if len(data_frames[country]) < 21:\n",
    "        countries.remove(country)\n",
    "        del data_frames[country]\n",
    "    else:\n",
    "        final_list.append(data_frames[country])\n",
    "        \n",
    "final_df = pd.concat(final_list)"
   ]
  },
  {
   "cell_type": "code",
   "execution_count": 13,
   "metadata": {
    "ExecuteTime": {
     "end_time": "2024-10-10T21:39:14.621890Z",
     "start_time": "2024-10-10T21:39:14.527184Z"
    }
   },
   "outputs": [
    {
     "data": {
      "text/html": [
       "<div>\n",
       "<style scoped>\n",
       "    .dataframe tbody tr th:only-of-type {\n",
       "        vertical-align: middle;\n",
       "    }\n",
       "\n",
       "    .dataframe tbody tr th {\n",
       "        vertical-align: top;\n",
       "    }\n",
       "\n",
       "    .dataframe thead th {\n",
       "        text-align: right;\n",
       "    }\n",
       "</style>\n",
       "<table border=\"1\" class=\"dataframe\">\n",
       "  <thead>\n",
       "    <tr style=\"text-align: right;\">\n",
       "      <th></th>\n",
       "      <th>date</th>\n",
       "      <th>iso_a3</th>\n",
       "      <th>currency_code</th>\n",
       "      <th>name</th>\n",
       "      <th>local_price</th>\n",
       "      <th>dollar_ex</th>\n",
       "      <th>dollar_price</th>\n",
       "    </tr>\n",
       "  </thead>\n",
       "  <tbody>\n",
       "    <tr>\n",
       "      <th>0</th>\n",
       "      <td>2000-04-01</td>\n",
       "      <td>BRA</td>\n",
       "      <td>BRL</td>\n",
       "      <td>Brazil</td>\n",
       "      <td>2.95</td>\n",
       "      <td>1.790</td>\n",
       "      <td>1.648045</td>\n",
       "    </tr>\n",
       "    <tr>\n",
       "      <th>1</th>\n",
       "      <td>2001-04-01</td>\n",
       "      <td>BRA</td>\n",
       "      <td>BRL</td>\n",
       "      <td>Brazil</td>\n",
       "      <td>3.60</td>\n",
       "      <td>2.190</td>\n",
       "      <td>1.643836</td>\n",
       "    </tr>\n",
       "    <tr>\n",
       "      <th>2</th>\n",
       "      <td>2002-04-01</td>\n",
       "      <td>BRA</td>\n",
       "      <td>BRL</td>\n",
       "      <td>Brazil</td>\n",
       "      <td>3.60</td>\n",
       "      <td>2.340</td>\n",
       "      <td>1.538462</td>\n",
       "    </tr>\n",
       "    <tr>\n",
       "      <th>3</th>\n",
       "      <td>2003-04-01</td>\n",
       "      <td>BRA</td>\n",
       "      <td>BRL</td>\n",
       "      <td>Brazil</td>\n",
       "      <td>4.55</td>\n",
       "      <td>3.070</td>\n",
       "      <td>1.482085</td>\n",
       "    </tr>\n",
       "    <tr>\n",
       "      <th>4</th>\n",
       "      <td>2004-05-01</td>\n",
       "      <td>BRA</td>\n",
       "      <td>BRL</td>\n",
       "      <td>Brazil</td>\n",
       "      <td>5.40</td>\n",
       "      <td>3.180</td>\n",
       "      <td>1.698113</td>\n",
       "    </tr>\n",
       "    <tr>\n",
       "      <th>...</th>\n",
       "      <td>...</td>\n",
       "      <td>...</td>\n",
       "      <td>...</td>\n",
       "      <td>...</td>\n",
       "      <td>...</td>\n",
       "      <td>...</td>\n",
       "      <td>...</td>\n",
       "    </tr>\n",
       "    <tr>\n",
       "      <th>562</th>\n",
       "      <td>2016-07-01</td>\n",
       "      <td>JPN</td>\n",
       "      <td>JPY</td>\n",
       "      <td>Japan</td>\n",
       "      <td>370.00</td>\n",
       "      <td>106.725</td>\n",
       "      <td>3.466854</td>\n",
       "    </tr>\n",
       "    <tr>\n",
       "      <th>563</th>\n",
       "      <td>2017-07-01</td>\n",
       "      <td>JPN</td>\n",
       "      <td>JPY</td>\n",
       "      <td>Japan</td>\n",
       "      <td>380.00</td>\n",
       "      <td>113.060</td>\n",
       "      <td>3.361047</td>\n",
       "    </tr>\n",
       "    <tr>\n",
       "      <th>564</th>\n",
       "      <td>2018-07-01</td>\n",
       "      <td>JPN</td>\n",
       "      <td>JPY</td>\n",
       "      <td>Japan</td>\n",
       "      <td>390.00</td>\n",
       "      <td>111.250</td>\n",
       "      <td>3.505618</td>\n",
       "    </tr>\n",
       "    <tr>\n",
       "      <th>565</th>\n",
       "      <td>2019-07-09</td>\n",
       "      <td>JPN</td>\n",
       "      <td>JPY</td>\n",
       "      <td>Japan</td>\n",
       "      <td>390.00</td>\n",
       "      <td>108.765</td>\n",
       "      <td>3.585712</td>\n",
       "    </tr>\n",
       "    <tr>\n",
       "      <th>566</th>\n",
       "      <td>2020-07-01</td>\n",
       "      <td>JPN</td>\n",
       "      <td>JPY</td>\n",
       "      <td>Japan</td>\n",
       "      <td>390.00</td>\n",
       "      <td>107.275</td>\n",
       "      <td>3.635516</td>\n",
       "    </tr>\n",
       "  </tbody>\n",
       "</table>\n",
       "<p>567 rows × 7 columns</p>\n",
       "</div>"
      ],
      "text/plain": [
       "           date iso_a3 currency_code    name  local_price  dollar_ex  \\\n",
       "0    2000-04-01    BRA           BRL  Brazil         2.95      1.790   \n",
       "1    2001-04-01    BRA           BRL  Brazil         3.60      2.190   \n",
       "2    2002-04-01    BRA           BRL  Brazil         3.60      2.340   \n",
       "3    2003-04-01    BRA           BRL  Brazil         4.55      3.070   \n",
       "4    2004-05-01    BRA           BRL  Brazil         5.40      3.180   \n",
       "..          ...    ...           ...     ...          ...        ...   \n",
       "562  2016-07-01    JPN           JPY   Japan       370.00    106.725   \n",
       "563  2017-07-01    JPN           JPY   Japan       380.00    113.060   \n",
       "564  2018-07-01    JPN           JPY   Japan       390.00    111.250   \n",
       "565  2019-07-09    JPN           JPY   Japan       390.00    108.765   \n",
       "566  2020-07-01    JPN           JPY   Japan       390.00    107.275   \n",
       "\n",
       "     dollar_price  \n",
       "0        1.648045  \n",
       "1        1.643836  \n",
       "2        1.538462  \n",
       "3        1.482085  \n",
       "4        1.698113  \n",
       "..            ...  \n",
       "562      3.466854  \n",
       "563      3.361047  \n",
       "564      3.505618  \n",
       "565      3.585712  \n",
       "566      3.635516  \n",
       "\n",
       "[567 rows x 7 columns]"
      ]
     },
     "execution_count": 13,
     "metadata": {},
     "output_type": "execute_result"
    }
   ],
   "source": [
    "final_df = final_df.reset_index(drop=True)\n",
    "final_df"
   ]
  },
  {
   "cell_type": "code",
   "execution_count": 14,
   "metadata": {
    "ExecuteTime": {
     "end_time": "2024-10-10T21:39:14.649568Z",
     "start_time": "2024-10-10T21:39:14.625025Z"
    }
   },
   "outputs": [],
   "source": [
    "final_df.to_csv(\"cleaned_bigmac.csv\", index=False)"
   ]
  },
  {
   "cell_type": "code",
   "execution_count": 15,
   "metadata": {
    "ExecuteTime": {
     "end_time": "2024-10-10T21:39:14.753410Z",
     "start_time": "2024-10-10T21:39:14.652268Z"
    }
   },
   "outputs": [],
   "source": [
    "gdp_data = pd.read_csv(\"gdp_data.csv\")"
   ]
  },
  {
   "cell_type": "code",
   "execution_count": 40,
   "metadata": {
    "ExecuteTime": {
     "end_time": "2024-10-10T22:00:27.125305Z",
     "start_time": "2024-10-10T22:00:27.023196Z"
    }
   },
   "outputs": [],
   "source": [
    "gdp_list = []\n",
    "\n",
    "for year in years:\n",
    "    year_set = gdp_data[[\"Country Code\", str(year.year)]]\n",
    "    gdp_list.append(year_set)\n"
   ]
  },
  {
   "cell_type": "code",
   "execution_count": 41,
   "metadata": {
    "ExecuteTime": {
     "end_time": "2024-10-10T22:00:56.233488Z",
     "start_time": "2024-10-10T22:00:56.113456Z"
    }
   },
   "outputs": [],
   "source": [
    "gdp_data2 = pd.concat(gdp_list)"
   ]
  },
  {
   "cell_type": "code",
   "execution_count": 58,
   "metadata": {
    "ExecuteTime": {
     "end_time": "2024-10-10T22:10:29.110748Z",
     "start_time": "2024-10-10T22:10:29.105425Z"
    }
   },
   "outputs": [],
   "source": [
    "def get_year(x):\n",
    "    return x.year"
   ]
  },
  {
   "cell_type": "code",
   "execution_count": 65,
   "metadata": {
    "ExecuteTime": {
     "end_time": "2024-10-10T22:14:05.533107Z",
     "start_time": "2024-10-10T22:14:05.474990Z"
    }
   },
   "outputs": [
    {
     "ename": "KeyError",
     "evalue": "'0      2000\\n1      2001\\n2      2002\\n3      2003\\n4      2004\\n       ... \\n562    2016\\n563    2017\\n564    2018\\n565    2019\\n566    2020\\nName: date, Length: 567, dtype: int64'",
     "output_type": "error",
     "traceback": [
      "\u001b[0;31m---------------------------------------------------------------------------\u001b[0m",
      "\u001b[0;31mKeyError\u001b[0m                                  Traceback (most recent call last)",
      "\u001b[0;32m/usr/local/lib64/python3.6/site-packages/pandas/core/indexes/base.py\u001b[0m in \u001b[0;36mget_loc\u001b[0;34m(self, key, method, tolerance)\u001b[0m\n\u001b[1;32m   2897\u001b[0m             \u001b[0;32mtry\u001b[0m\u001b[0;34m:\u001b[0m\u001b[0;34m\u001b[0m\u001b[0;34m\u001b[0m\u001b[0m\n\u001b[0;32m-> 2898\u001b[0;31m                 \u001b[0;32mreturn\u001b[0m \u001b[0mself\u001b[0m\u001b[0;34m.\u001b[0m\u001b[0m_engine\u001b[0m\u001b[0;34m.\u001b[0m\u001b[0mget_loc\u001b[0m\u001b[0;34m(\u001b[0m\u001b[0mcasted_key\u001b[0m\u001b[0;34m)\u001b[0m\u001b[0;34m\u001b[0m\u001b[0;34m\u001b[0m\u001b[0m\n\u001b[0m\u001b[1;32m   2899\u001b[0m             \u001b[0;32mexcept\u001b[0m \u001b[0mKeyError\u001b[0m \u001b[0;32mas\u001b[0m \u001b[0merr\u001b[0m\u001b[0;34m:\u001b[0m\u001b[0;34m\u001b[0m\u001b[0;34m\u001b[0m\u001b[0m\n",
      "\u001b[0;32mpandas/_libs/index.pyx\u001b[0m in \u001b[0;36mpandas._libs.index.IndexEngine.get_loc\u001b[0;34m()\u001b[0m\n",
      "\u001b[0;32mpandas/_libs/index.pyx\u001b[0m in \u001b[0;36mpandas._libs.index.IndexEngine.get_loc\u001b[0;34m()\u001b[0m\n",
      "\u001b[0;32mpandas/_libs/hashtable_class_helper.pxi\u001b[0m in \u001b[0;36mpandas._libs.hashtable.PyObjectHashTable.get_item\u001b[0;34m()\u001b[0m\n",
      "\u001b[0;32mpandas/_libs/hashtable_class_helper.pxi\u001b[0m in \u001b[0;36mpandas._libs.hashtable.PyObjectHashTable.get_item\u001b[0;34m()\u001b[0m\n",
      "\u001b[0;31mKeyError\u001b[0m: '0      2000\\n1      2001\\n2      2002\\n3      2003\\n4      2004\\n       ... \\n562    2016\\n563    2017\\n564    2018\\n565    2019\\n566    2020\\nName: date, Length: 567, dtype: int64'",
      "\nThe above exception was the direct cause of the following exception:\n",
      "\u001b[0;31mKeyError\u001b[0m                                  Traceback (most recent call last)",
      "\u001b[0;32m<ipython-input-65-18589324a794>\u001b[0m in \u001b[0;36m<module>\u001b[0;34m\u001b[0m\n\u001b[0;32m----> 1\u001b[0;31m \u001b[0mfinal_df\u001b[0m\u001b[0;34m[\u001b[0m\u001b[0;34m\"GDP\"\u001b[0m\u001b[0;34m]\u001b[0m \u001b[0;34m=\u001b[0m \u001b[0;34m(\u001b[0m\u001b[0mgdp_data2\u001b[0m\u001b[0;34m[\u001b[0m\u001b[0mgdp_data2\u001b[0m\u001b[0;34m[\u001b[0m\u001b[0;34m\"Country Code\"\u001b[0m\u001b[0;34m]\u001b[0m \u001b[0;34m==\u001b[0m \u001b[0mstr\u001b[0m\u001b[0;34m(\u001b[0m\u001b[0mfinal_df\u001b[0m\u001b[0;34m[\u001b[0m\u001b[0;34m\"iso_a3\"\u001b[0m\u001b[0;34m]\u001b[0m\u001b[0;34m)\u001b[0m\u001b[0;34m]\u001b[0m\u001b[0;34m[\u001b[0m\u001b[0mstr\u001b[0m\u001b[0;34m(\u001b[0m\u001b[0mfinal_df\u001b[0m\u001b[0;34m[\u001b[0m\u001b[0;34m\"date\"\u001b[0m\u001b[0;34m]\u001b[0m\u001b[0;34m.\u001b[0m\u001b[0mapply\u001b[0m\u001b[0;34m(\u001b[0m\u001b[0mget_year\u001b[0m\u001b[0;34m)\u001b[0m\u001b[0;34m)\u001b[0m\u001b[0;34m]\u001b[0m\u001b[0;34m)\u001b[0m\u001b[0;34m.\u001b[0m\u001b[0mdropna\u001b[0m\u001b[0;34m(\u001b[0m\u001b[0;34m)\u001b[0m\u001b[0;34m.\u001b[0m\u001b[0miloc\u001b[0m\u001b[0;34m[\u001b[0m\u001b[0;36m0\u001b[0m\u001b[0;34m]\u001b[0m \u001b[0;32mor\u001b[0m \u001b[0;32mNone\u001b[0m\u001b[0;34m\u001b[0m\u001b[0;34m\u001b[0m\u001b[0m\n\u001b[0m",
      "\u001b[0;32m/usr/local/lib64/python3.6/site-packages/pandas/core/frame.py\u001b[0m in \u001b[0;36m__getitem__\u001b[0;34m(self, key)\u001b[0m\n\u001b[1;32m   2904\u001b[0m             \u001b[0;32mif\u001b[0m \u001b[0mself\u001b[0m\u001b[0;34m.\u001b[0m\u001b[0mcolumns\u001b[0m\u001b[0;34m.\u001b[0m\u001b[0mnlevels\u001b[0m \u001b[0;34m>\u001b[0m \u001b[0;36m1\u001b[0m\u001b[0;34m:\u001b[0m\u001b[0;34m\u001b[0m\u001b[0;34m\u001b[0m\u001b[0m\n\u001b[1;32m   2905\u001b[0m                 \u001b[0;32mreturn\u001b[0m \u001b[0mself\u001b[0m\u001b[0;34m.\u001b[0m\u001b[0m_getitem_multilevel\u001b[0m\u001b[0;34m(\u001b[0m\u001b[0mkey\u001b[0m\u001b[0;34m)\u001b[0m\u001b[0;34m\u001b[0m\u001b[0;34m\u001b[0m\u001b[0m\n\u001b[0;32m-> 2906\u001b[0;31m             \u001b[0mindexer\u001b[0m \u001b[0;34m=\u001b[0m \u001b[0mself\u001b[0m\u001b[0;34m.\u001b[0m\u001b[0mcolumns\u001b[0m\u001b[0;34m.\u001b[0m\u001b[0mget_loc\u001b[0m\u001b[0;34m(\u001b[0m\u001b[0mkey\u001b[0m\u001b[0;34m)\u001b[0m\u001b[0;34m\u001b[0m\u001b[0;34m\u001b[0m\u001b[0m\n\u001b[0m\u001b[1;32m   2907\u001b[0m             \u001b[0;32mif\u001b[0m \u001b[0mis_integer\u001b[0m\u001b[0;34m(\u001b[0m\u001b[0mindexer\u001b[0m\u001b[0;34m)\u001b[0m\u001b[0;34m:\u001b[0m\u001b[0;34m\u001b[0m\u001b[0;34m\u001b[0m\u001b[0m\n\u001b[1;32m   2908\u001b[0m                 \u001b[0mindexer\u001b[0m \u001b[0;34m=\u001b[0m \u001b[0;34m[\u001b[0m\u001b[0mindexer\u001b[0m\u001b[0;34m]\u001b[0m\u001b[0;34m\u001b[0m\u001b[0;34m\u001b[0m\u001b[0m\n",
      "\u001b[0;32m/usr/local/lib64/python3.6/site-packages/pandas/core/indexes/base.py\u001b[0m in \u001b[0;36mget_loc\u001b[0;34m(self, key, method, tolerance)\u001b[0m\n\u001b[1;32m   2898\u001b[0m                 \u001b[0;32mreturn\u001b[0m \u001b[0mself\u001b[0m\u001b[0;34m.\u001b[0m\u001b[0m_engine\u001b[0m\u001b[0;34m.\u001b[0m\u001b[0mget_loc\u001b[0m\u001b[0;34m(\u001b[0m\u001b[0mcasted_key\u001b[0m\u001b[0;34m)\u001b[0m\u001b[0;34m\u001b[0m\u001b[0;34m\u001b[0m\u001b[0m\n\u001b[1;32m   2899\u001b[0m             \u001b[0;32mexcept\u001b[0m \u001b[0mKeyError\u001b[0m \u001b[0;32mas\u001b[0m \u001b[0merr\u001b[0m\u001b[0;34m:\u001b[0m\u001b[0;34m\u001b[0m\u001b[0;34m\u001b[0m\u001b[0m\n\u001b[0;32m-> 2900\u001b[0;31m                 \u001b[0;32mraise\u001b[0m \u001b[0mKeyError\u001b[0m\u001b[0;34m(\u001b[0m\u001b[0mkey\u001b[0m\u001b[0;34m)\u001b[0m \u001b[0;32mfrom\u001b[0m \u001b[0merr\u001b[0m\u001b[0;34m\u001b[0m\u001b[0;34m\u001b[0m\u001b[0m\n\u001b[0m\u001b[1;32m   2901\u001b[0m \u001b[0;34m\u001b[0m\u001b[0m\n\u001b[1;32m   2902\u001b[0m         \u001b[0;32mif\u001b[0m \u001b[0mtolerance\u001b[0m \u001b[0;32mis\u001b[0m \u001b[0;32mnot\u001b[0m \u001b[0;32mNone\u001b[0m\u001b[0;34m:\u001b[0m\u001b[0;34m\u001b[0m\u001b[0;34m\u001b[0m\u001b[0m\n",
      "\u001b[0;31mKeyError\u001b[0m: '0      2000\\n1      2001\\n2      2002\\n3      2003\\n4      2004\\n       ... \\n562    2016\\n563    2017\\n564    2018\\n565    2019\\n566    2020\\nName: date, Length: 567, dtype: int64'"
     ]
    }
   ],
   "source": [
    "final_df[\"GDP\"] = (gdp_data2[gdp_data2[\"Country Code\"] == str(final_df[\"iso_a3\"])][str(final_df[\"date\"].apply(get_year))]).dropna().iloc[0]"
   ]
  },
  {
   "cell_type": "code",
   "execution_count": 72,
   "metadata": {
    "ExecuteTime": {
     "end_time": "2024-10-10T22:21:46.036350Z",
     "start_time": "2024-10-10T22:21:42.173167Z"
    }
   },
   "outputs": [],
   "source": [
    "def get_gdp(row):\n",
    "    # Convert date to year using get_year function and apply filtering\n",
    "    filtered = gdp_data2[gdp_data2[\"Country Code\"] == str(row[\"iso_a3\"])][str(row[\"date\"].year)].dropna()\n",
    "    \n",
    "    # Check if the filtered DataFrame is not empty\n",
    "    if not filtered.empty:\n",
    "        return filtered.iloc[0]  # Access the first matching GDP value\n",
    "    else:\n",
    "        return pd.NA  # Return None or a default value if no match is found\n",
    "\n",
    "# Apply the function to the DataFrame row by row\n",
    "final_df[\"GDP\"] = final_df.apply(get_gdp, axis=1)\n"
   ]
  },
  {
   "cell_type": "code",
   "execution_count": 73,
   "metadata": {
    "ExecuteTime": {
     "end_time": "2024-10-10T22:21:46.231547Z",
     "start_time": "2024-10-10T22:21:46.039511Z"
    }
   },
   "outputs": [
    {
     "data": {
      "text/html": [
       "<div>\n",
       "<style scoped>\n",
       "    .dataframe tbody tr th:only-of-type {\n",
       "        vertical-align: middle;\n",
       "    }\n",
       "\n",
       "    .dataframe tbody tr th {\n",
       "        vertical-align: top;\n",
       "    }\n",
       "\n",
       "    .dataframe thead th {\n",
       "        text-align: right;\n",
       "    }\n",
       "</style>\n",
       "<table border=\"1\" class=\"dataframe\">\n",
       "  <thead>\n",
       "    <tr style=\"text-align: right;\">\n",
       "      <th></th>\n",
       "      <th>date</th>\n",
       "      <th>iso_a3</th>\n",
       "      <th>currency_code</th>\n",
       "      <th>name</th>\n",
       "      <th>local_price</th>\n",
       "      <th>dollar_ex</th>\n",
       "      <th>dollar_price</th>\n",
       "      <th>GDP</th>\n",
       "    </tr>\n",
       "  </thead>\n",
       "  <tbody>\n",
       "    <tr>\n",
       "      <th>0</th>\n",
       "      <td>2000-04-01</td>\n",
       "      <td>BRA</td>\n",
       "      <td>BRL</td>\n",
       "      <td>Brazil</td>\n",
       "      <td>2.95</td>\n",
       "      <td>1.790</td>\n",
       "      <td>1.648045</td>\n",
       "      <td>3726.81</td>\n",
       "    </tr>\n",
       "    <tr>\n",
       "      <th>1</th>\n",
       "      <td>2001-04-01</td>\n",
       "      <td>BRA</td>\n",
       "      <td>BRL</td>\n",
       "      <td>Brazil</td>\n",
       "      <td>3.60</td>\n",
       "      <td>2.190</td>\n",
       "      <td>1.643836</td>\n",
       "      <td>3142.24</td>\n",
       "    </tr>\n",
       "    <tr>\n",
       "      <th>2</th>\n",
       "      <td>2002-04-01</td>\n",
       "      <td>BRA</td>\n",
       "      <td>BRL</td>\n",
       "      <td>Brazil</td>\n",
       "      <td>3.60</td>\n",
       "      <td>2.340</td>\n",
       "      <td>1.538462</td>\n",
       "      <td>2824.72</td>\n",
       "    </tr>\n",
       "    <tr>\n",
       "      <th>3</th>\n",
       "      <td>2003-04-01</td>\n",
       "      <td>BRA</td>\n",
       "      <td>BRL</td>\n",
       "      <td>Brazil</td>\n",
       "      <td>4.55</td>\n",
       "      <td>3.070</td>\n",
       "      <td>1.482085</td>\n",
       "      <td>3056.65</td>\n",
       "    </tr>\n",
       "    <tr>\n",
       "      <th>4</th>\n",
       "      <td>2004-05-01</td>\n",
       "      <td>BRA</td>\n",
       "      <td>BRL</td>\n",
       "      <td>Brazil</td>\n",
       "      <td>5.40</td>\n",
       "      <td>3.180</td>\n",
       "      <td>1.698113</td>\n",
       "      <td>3623.22</td>\n",
       "    </tr>\n",
       "    <tr>\n",
       "      <th>...</th>\n",
       "      <td>...</td>\n",
       "      <td>...</td>\n",
       "      <td>...</td>\n",
       "      <td>...</td>\n",
       "      <td>...</td>\n",
       "      <td>...</td>\n",
       "      <td>...</td>\n",
       "      <td>...</td>\n",
       "    </tr>\n",
       "    <tr>\n",
       "      <th>562</th>\n",
       "      <td>2016-07-01</td>\n",
       "      <td>JPN</td>\n",
       "      <td>JPY</td>\n",
       "      <td>Japan</td>\n",
       "      <td>370.00</td>\n",
       "      <td>106.725</td>\n",
       "      <td>3.466854</td>\n",
       "      <td>39375.5</td>\n",
       "    </tr>\n",
       "    <tr>\n",
       "      <th>563</th>\n",
       "      <td>2017-07-01</td>\n",
       "      <td>JPN</td>\n",
       "      <td>JPY</td>\n",
       "      <td>Japan</td>\n",
       "      <td>380.00</td>\n",
       "      <td>113.060</td>\n",
       "      <td>3.361047</td>\n",
       "      <td>38834.1</td>\n",
       "    </tr>\n",
       "    <tr>\n",
       "      <th>564</th>\n",
       "      <td>2018-07-01</td>\n",
       "      <td>JPN</td>\n",
       "      <td>JPY</td>\n",
       "      <td>Japan</td>\n",
       "      <td>390.00</td>\n",
       "      <td>111.250</td>\n",
       "      <td>3.505618</td>\n",
       "      <td>39751.1</td>\n",
       "    </tr>\n",
       "    <tr>\n",
       "      <th>565</th>\n",
       "      <td>2019-07-09</td>\n",
       "      <td>JPN</td>\n",
       "      <td>JPY</td>\n",
       "      <td>Japan</td>\n",
       "      <td>390.00</td>\n",
       "      <td>108.765</td>\n",
       "      <td>3.585712</td>\n",
       "      <td>40416</td>\n",
       "    </tr>\n",
       "    <tr>\n",
       "      <th>566</th>\n",
       "      <td>2020-07-01</td>\n",
       "      <td>JPN</td>\n",
       "      <td>JPY</td>\n",
       "      <td>Japan</td>\n",
       "      <td>390.00</td>\n",
       "      <td>107.275</td>\n",
       "      <td>3.635516</td>\n",
       "      <td>40040.8</td>\n",
       "    </tr>\n",
       "  </tbody>\n",
       "</table>\n",
       "<p>567 rows × 8 columns</p>\n",
       "</div>"
      ],
      "text/plain": [
       "           date iso_a3 currency_code    name  local_price  dollar_ex  \\\n",
       "0    2000-04-01    BRA           BRL  Brazil         2.95      1.790   \n",
       "1    2001-04-01    BRA           BRL  Brazil         3.60      2.190   \n",
       "2    2002-04-01    BRA           BRL  Brazil         3.60      2.340   \n",
       "3    2003-04-01    BRA           BRL  Brazil         4.55      3.070   \n",
       "4    2004-05-01    BRA           BRL  Brazil         5.40      3.180   \n",
       "..          ...    ...           ...     ...          ...        ...   \n",
       "562  2016-07-01    JPN           JPY   Japan       370.00    106.725   \n",
       "563  2017-07-01    JPN           JPY   Japan       380.00    113.060   \n",
       "564  2018-07-01    JPN           JPY   Japan       390.00    111.250   \n",
       "565  2019-07-09    JPN           JPY   Japan       390.00    108.765   \n",
       "566  2020-07-01    JPN           JPY   Japan       390.00    107.275   \n",
       "\n",
       "     dollar_price      GDP  \n",
       "0        1.648045  3726.81  \n",
       "1        1.643836  3142.24  \n",
       "2        1.538462  2824.72  \n",
       "3        1.482085  3056.65  \n",
       "4        1.698113  3623.22  \n",
       "..            ...      ...  \n",
       "562      3.466854  39375.5  \n",
       "563      3.361047  38834.1  \n",
       "564      3.505618  39751.1  \n",
       "565      3.585712    40416  \n",
       "566      3.635516  40040.8  \n",
       "\n",
       "[567 rows x 8 columns]"
      ]
     },
     "execution_count": 73,
     "metadata": {},
     "output_type": "execute_result"
    }
   ],
   "source": [
    "final_df"
   ]
  },
  {
   "cell_type": "code",
   "execution_count": 74,
   "metadata": {
    "ExecuteTime": {
     "end_time": "2024-10-10T22:21:46.331912Z",
     "start_time": "2024-10-10T22:21:46.234614Z"
    }
   },
   "outputs": [],
   "source": [
    "final_df.to_csv(\"cleaned_bigmac.csv\", index=False)\n"
   ]
  },
  {
   "cell_type": "code",
   "execution_count": null,
   "metadata": {},
   "outputs": [],
   "source": []
  }
 ],
 "metadata": {
  "kernelspec": {
   "display_name": "Python 3",
   "language": "python",
   "name": "python3"
  },
  "language_info": {
   "codemirror_mode": {
    "name": "ipython",
    "version": 3
   },
   "file_extension": ".py",
   "mimetype": "text/x-python",
   "name": "python",
   "nbconvert_exporter": "python",
   "pygments_lexer": "ipython3",
   "version": "3.6.8"
  }
 },
 "nbformat": 4,
 "nbformat_minor": 4
}
